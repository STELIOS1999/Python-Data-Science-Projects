{
 "cells": [
  {
   "cell_type": "markdown",
   "id": "97a705a7",
   "metadata": {},
   "source": [
    "# CS5914 Machine Learning Algorithms\n",
    "## Assignment 1 \n",
    "##### Credits: 30% of the module"
   ]
  },
  {
   "cell_type": "markdown",
   "id": "3e26dde6",
   "metadata": {},
   "source": [
    "## Aims\n",
    "\n",
    "This assignment covers Topic 1 to Topic 5.\n",
    "\n",
    "The objectives of this assignment are:\n",
    "\n",
    "* deepen your understanding of linear regression and logistic regression\n",
    "* gain experience in implementing learning algorithms \n",
    "* gain experience in evaluating machine learning algorithms\n",
    "* gain experience in hyper-parameter tuning\n"
   ]
  },
  {
   "cell_type": "markdown",
   "id": "f662dc6a",
   "metadata": {},
   "source": [
    "## Set-up\n",
    "\n",
    "You are **only allowed** to use the following imported packages for this practical. No off-the-shelf machine learning packages such as _scikit-learn_ are allowed. \n"
   ]
  },
  {
   "cell_type": "code",
   "execution_count": 1,
   "id": "931f3a91",
   "metadata": {},
   "outputs": [],
   "source": [
    "# if you use jupyter-lab, switch to %matplotlib inline instead\n",
    "%matplotlib inline\n",
    "#matplotlib notebook\n",
    "%config Completer.use_jedi = False\n",
    "import matplotlib.pyplot as plt\n",
    "import autograd.numpy as np  # Thinly-wrapped numpy\n",
    "from autograd import grad    # The only autograd function you may ever need\n",
    "import autograd.numpy.linalg as linalg\n",
    "import matplotlib.pyplot as plt\n",
    "import pandas as pd"
   ]
  },
  {
   "cell_type": "markdown",
   "id": "d211324e",
   "metadata": {},
   "source": [
    "## Question 1 (Logistic regression)\n",
    "\n",
    "In this question, we are going to implement an logistic regression model to do binary classification on a simulated dataset. The dataset's input feature are four-dimensional vectors $\\mathbf{x}^{(i)} \\in \\mathbb{R}^4$ and as expected the target $y^{(i)} \\in \\{0, 1\\}$. \n",
    "\n",
    "\n",
    "The dataset $\\{\\mathbf{x}^{(i)}, y^{(i)}\\}$ is imported below for you:\n",
    "* ``dataset1``: 2000 observations and each input $\\mathbf{x}$ has 4 features \n",
    "* and the last column is the target ${y}^{(i)}$\n",
    "* the dataset is then split into training and testing parts"
   ]
  },
  {
   "cell_type": "code",
   "execution_count": 2,
   "id": "34706afa",
   "metadata": {},
   "outputs": [],
   "source": [
    "# read in dataset1\n",
    "dataset1_df = pd.read_csv('./datasets/dataset1.csv', header=0)\n",
    "dataset1 = np.array(dataset1_df)\n",
    "d1X, d1Y = dataset1[:, 0:4], dataset1[:, -1]\n",
    "# split the data into training and testing \n",
    "# the training dataset has the first 1500 observation; \n",
    "# in practice, you should randomly shuffle before the split\n",
    "d1_xtrain, d1_ytrain = d1X[0:1500, :], d1Y[0:1500]\n",
    "# the testing dataset has the last 500\n",
    "d1_xtest, d1_ytest = d1X[1500:, :], d1Y[1500:]"
   ]
  },
  {
   "cell_type": "markdown",
   "id": "19e3b086",
   "metadata": {},
   "source": [
    "As suggested in the lecture, it is convenient to introduce dummy ones to avoid learning the bias separately."
   ]
  },
  {
   "cell_type": "code",
   "execution_count": 3,
   "id": "d87aa88b",
   "metadata": {},
   "outputs": [],
   "source": [
    "#adding ones for the bias term\n",
    "d1_xtrain_dummy = np.column_stack((np.ones(d1_xtrain.shape[0]), d1_xtrain))\n",
    "d1_xtest_dummy = np.column_stack((np.ones(d1_xtest.shape[0]), d1_xtest))"
   ]
  },
  {
   "cell_type": "code",
   "execution_count": 4,
   "id": "c28ebe0d",
   "metadata": {},
   "outputs": [
    {
     "data": {
      "text/plain": [
       "(1500, 5)"
      ]
     },
     "execution_count": 4,
     "metadata": {},
     "output_type": "execute_result"
    }
   ],
   "source": [
    "d1_xtrain_dummy.shape"
   ]
  },
  {
   "cell_type": "markdown",
   "id": "9270ebbf",
   "metadata": {},
   "source": [
    "### Task 1.1 Implementation of logistic regression\n",
    "\n",
    "Your task here is to implement a gradient descent based algorithm to train a logistic regression model. For this task, you cannot use `autograd`'s auto-differentiation method (*i.e.* the imported `grad` method). You will be guided to finish the task step by step. "
   ]
  },
  {
   "cell_type": "markdown",
   "id": "96c28469",
   "metadata": {},
   "source": [
    "First, implement the `sigmoid` function:\n",
    "\n",
    "$$\\sigma(z) = \\frac{1}{1+e^{-z}}$$"
   ]
  },
  {
   "cell_type": "code",
   "execution_count": 5,
   "id": "d77df7f4",
   "metadata": {},
   "outputs": [],
   "source": [
    "def sigmoid(z):\n",
    "    sig=1/(1+np.exp(-z))\n",
    "    # hint: use np.exp(-z)\n",
    "    return sig"
   ]
  },
  {
   "cell_type": "markdown",
   "id": "cf2670fb",
   "metadata": {},
   "source": [
    "Second, implement the cross-entropy loss and its gradient. You may want to refer to the lecture slides for the details. Recall the binary **C**ross **E**ntropy (CE) _loss_ is \n",
    "\n",
    "\n",
    "$$\n",
    "L(\\mathbf{w})=  \\frac{1}{n}\\sum_{i=1}^n -{y^{(i)}} \\ln \\sigma^{(i)}- (1- y^{(i)}) \\ln (1-\\sigma^{(i)})\n",
    "$$\n",
    "\n",
    "where $\\sigma^{(i)} =\\sigma(\\mathbf{w}^\\top\\mathbf{x}^{(i)} + b).$"
   ]
  },
  {
   "cell_type": "code",
   "execution_count": 6,
   "id": "da95f946",
   "metadata": {},
   "outputs": [],
   "source": [
    "def cross_entropy_loss(w, X, y):\n",
    "    y_=X@w#predicted output\n",
    "    sig=sigmoid(y_)\n",
    "    loss=np.mean(-y*np.log(sig)-(1-y)*np.log(1-sig))#cross entropy loss\n",
    "    return loss"
   ]
  },
  {
   "cell_type": "code",
   "execution_count": 7,
   "id": "c8d9bd96",
   "metadata": {},
   "outputs": [],
   "source": [
    "def gradient_ce_loss(w, X, y):\n",
    "    eps=10**(-6) #finite difference eps for dw parameter\n",
    "    \n",
    "    gradient=np.zeros(len(w))#initialise gradient vector\n",
    "    \n",
    "    for i in range(len(w)):\n",
    "        e=np.zeros(len(w))\n",
    "        e[i]=1\n",
    "        \n",
    "        #finite difference for every entry of the gradient vector\n",
    "        gradient[i]=(cross_entropy_loss(w+e*eps,X,y)-cross_entropy_loss(w-e*eps,X,y))/(2*eps)\n",
    "        \n",
    "    return gradient"
   ]
  },
  {
   "cell_type": "code",
   "execution_count": 8,
   "id": "786ee411",
   "metadata": {},
   "outputs": [
    {
     "data": {
      "text/plain": [
       "array([ 0.354     , -0.06044063,  0.03826493, -0.01434547,  0.02058552])"
      ]
     },
     "execution_count": 8,
     "metadata": {},
     "output_type": "execute_result"
    }
   ],
   "source": [
    "w_test=np.zeros(5)\n",
    "gradient_ce_loss(w_test,d1_xtrain_dummy,d1_ytrain)# testing gradient"
   ]
  },
  {
   "cell_type": "code",
   "execution_count": 9,
   "id": "26fe36cb",
   "metadata": {},
   "outputs": [
    {
     "data": {
      "text/plain": [
       "array([ 0.354     , -0.06044063,  0.03826493, -0.01434547,  0.02058552])"
      ]
     },
     "execution_count": 9,
     "metadata": {},
     "output_type": "execute_result"
    }
   ],
   "source": [
    "y_=sigmoid(d1_xtrain_dummy@w_test)\n",
    "gradient=d1_xtrain_dummy.T@(y_-d1_ytrain)/y_.shape[0]\n",
    "gradient #verifying that calculation of gradient is correct"
   ]
  },
  {
   "cell_type": "markdown",
   "id": "5eafe409",
   "metadata": {},
   "source": [
    "Lastly, implement the gradient descent algorithm."
   ]
  },
  {
   "cell_type": "code",
   "execution_count": 10,
   "id": "c8f29df4",
   "metadata": {},
   "outputs": [],
   "source": [
    "def logistic_regression_train(X, y, gamma, tol= 1e-4, maxIters= 1000):\n",
    "    n, d = X.shape \n",
    "    # initialise w0\n",
    "    w0 = np.zeros(d)#initialise w0\n",
    "    losses = []\n",
    "    # loop until converge\n",
    "    \n",
    "    for i in range(maxIters):\n",
    "        loss=cross_entropy_loss(w0, X, y)\n",
    "        gradient=gradient_ce_loss(w0,X,y)\n",
    "        w0 = w0 - gamma * gradient\n",
    "        losses.append(loss)\n",
    "        if i>=1:\n",
    "            #checking difference of losses to stop training when it has reached the tolerance threshold\n",
    "            if abs(losses[i]-losses[i-1])<=tol: \n",
    "                break\n",
    "    return w0,losses"
   ]
  },
  {
   "cell_type": "markdown",
   "id": "1c4e01f5",
   "metadata": {},
   "source": [
    "After you finish implementing all the above methods, use your learning algorithm train a logistic regression model on the training dataset and answer the following questions:\n",
    "\n",
    "* plot the learning curve\n",
    "* how did you check whether the learning has converged ?\n",
    "* report the learning rate parameter used \n",
    "* report the learnt parameter $\\mathbf{w}$ and bias $b$"
   ]
  },
  {
   "cell_type": "code",
   "execution_count": 11,
   "id": "eff686ab",
   "metadata": {},
   "outputs": [],
   "source": [
    "#gamma=0.5 was used, learning converges fast without danger of oscillation around the minimum\n",
    "\n",
    "w0,losses=logistic_regression_train(d1_xtrain_dummy,d1_ytrain,0.5)"
   ]
  },
  {
   "cell_type": "code",
   "execution_count": 12,
   "id": "7b9e88a2",
   "metadata": {},
   "outputs": [
    {
     "data": {
      "text/plain": [
       "0.3408249764820776"
      ]
     },
     "execution_count": 12,
     "metadata": {},
     "output_type": "execute_result"
    }
   ],
   "source": [
    "losses[len(losses)-1]"
   ]
  },
  {
   "cell_type": "code",
   "execution_count": 13,
   "id": "f61a6777",
   "metadata": {},
   "outputs": [
    {
     "data": {
      "text/plain": [
       "Text(0, 0.5, 'loss')"
      ]
     },
     "execution_count": 13,
     "metadata": {},
     "output_type": "execute_result"
    },
    {
     "data": {
      "image/png": "[encoded data removed]",
      "text/plain": [
       "<Figure size 432x288 with 1 Axes>"
      ]
     },
     "metadata": {
      "needs_background": "light"
     },
     "output_type": "display_data"
    }
   ],
   "source": [
    "plt.plot(losses)\n",
    "plt.xlabel(\"iteration\")\n",
    "plt.ylabel(\"loss\")#learning curve plotted below"
   ]
  },
  {
   "cell_type": "code",
   "execution_count": 14,
   "id": "688bd5a0",
   "metadata": {},
   "outputs": [
    {
     "data": {
      "text/plain": [
       "array([ 1.47957075, -0.81836541,  0.31366602, -0.0427522 ])"
      ]
     },
     "execution_count": 14,
     "metadata": {},
     "output_type": "execute_result"
    }
   ],
   "source": [
    "w0[1:len(w0)]#w parameters"
   ]
  },
  {
   "cell_type": "code",
   "execution_count": 15,
   "id": "c88e6c54",
   "metadata": {},
   "outputs": [
    {
     "data": {
      "text/plain": [
       "-2.059622242076009"
      ]
     },
     "execution_count": 15,
     "metadata": {},
     "output_type": "execute_result"
    }
   ],
   "source": [
    "w0[0]#bias"
   ]
  },
  {
   "cell_type": "markdown",
   "id": "ba462991",
   "metadata": {},
   "source": [
    "### Task 1.2 Testing performance\n",
    "\n",
    "Implement a prediction method that takes as input the features together with the learnt parameter and output the predicted labels."
   ]
  },
  {
   "cell_type": "code",
   "execution_count": 16,
   "id": "988713af",
   "metadata": {},
   "outputs": [],
   "source": [
    "def predict_logistic_regression(w, X = d1_xtest_dummy):\n",
    "    n, d = X.shape \n",
    "    ## fill the rest of the method\n",
    "    prediction=sigmoid(X@w)\n",
    "    return prediction"
   ]
  },
  {
   "cell_type": "code",
   "execution_count": 17,
   "id": "90f5dc0f",
   "metadata": {
    "scrolled": true
   },
   "outputs": [
    {
     "data": {
      "text/plain": [
       "0.866"
      ]
     },
     "execution_count": 17,
     "metadata": {},
     "output_type": "execute_result"
    }
   ],
   "source": [
    "label=np.round(predict_logistic_regression(w0))\n",
    "accuracy=np.mean(label==d1_ytest)\n",
    "accuracy"
   ]
  },
  {
   "cell_type": "code",
   "execution_count": 18,
   "id": "4b065cdd",
   "metadata": {},
   "outputs": [
    {
     "data": {
      "text/plain": [
       "430"
      ]
     },
     "execution_count": 18,
     "metadata": {},
     "output_type": "execute_result"
    }
   ],
   "source": [
    "TN=np.sum(label[d1_ytest==0]==d1_ytest[d1_ytest==0])\n",
    "TN"
   ]
  },
  {
   "cell_type": "code",
   "execution_count": 19,
   "id": "2f78f333",
   "metadata": {},
   "outputs": [
    {
     "data": {
      "text/plain": [
       "3"
      ]
     },
     "execution_count": 19,
     "metadata": {},
     "output_type": "execute_result"
    }
   ],
   "source": [
    "FP=len(d1_ytest[d1_ytest==0])-TN\n",
    "FP"
   ]
  },
  {
   "cell_type": "code",
   "execution_count": 20,
   "id": "bf373886",
   "metadata": {},
   "outputs": [
    {
     "data": {
      "text/plain": [
       "3"
      ]
     },
     "execution_count": 20,
     "metadata": {},
     "output_type": "execute_result"
    }
   ],
   "source": [
    "TP=np.sum(label[d1_ytest==1]==d1_ytest[d1_ytest==1])\n",
    "TP"
   ]
  },
  {
   "cell_type": "code",
   "execution_count": 21,
   "id": "c41d8710",
   "metadata": {},
   "outputs": [
    {
     "data": {
      "text/plain": [
       "64.0"
      ]
     },
     "execution_count": 21,
     "metadata": {},
     "output_type": "execute_result"
    }
   ],
   "source": [
    "FN=np.sum(d1_ytest[d1_ytest==1])-TP\n",
    "FN"
   ]
  },
  {
   "cell_type": "code",
   "execution_count": 22,
   "id": "2b5a793f",
   "metadata": {},
   "outputs": [
    {
     "data": {
      "text/plain": [
       "0.866"
      ]
     },
     "execution_count": 22,
     "metadata": {},
     "output_type": "execute_result"
    }
   ],
   "source": [
    "accuracy=(TP+TN)/(TP+TN+FN+FP)\n",
    "accuracy"
   ]
  },
  {
   "cell_type": "code",
   "execution_count": 23,
   "id": "bffd4443",
   "metadata": {},
   "outputs": [
    {
     "data": {
      "text/plain": [
       "0.04477611940298507"
      ]
     },
     "execution_count": 23,
     "metadata": {},
     "output_type": "execute_result"
    }
   ],
   "source": [
    "TPR=TP/(TP+FN)\n",
    "TPR"
   ]
  },
  {
   "cell_type": "code",
   "execution_count": 24,
   "id": "e3d0a07e",
   "metadata": {},
   "outputs": [
    {
     "data": {
      "text/plain": [
       "0.006928406466512702"
      ]
     },
     "execution_count": 24,
     "metadata": {},
     "output_type": "execute_result"
    }
   ],
   "source": [
    "FPR=FP/(FP+TN)\n",
    "FPR"
   ]
  },
  {
   "cell_type": "code",
   "execution_count": 25,
   "id": "0673922a",
   "metadata": {},
   "outputs": [
    {
     "data": {
      "text/plain": [
       "0.04477611940298507"
      ]
     },
     "execution_count": 25,
     "metadata": {},
     "output_type": "execute_result"
    }
   ],
   "source": [
    "Recall=TPR\n",
    "Recall"
   ]
  },
  {
   "cell_type": "code",
   "execution_count": 26,
   "id": "39054d6b",
   "metadata": {},
   "outputs": [
    {
     "data": {
      "text/plain": [
       "0.5"
      ]
     },
     "execution_count": 26,
     "metadata": {},
     "output_type": "execute_result"
    }
   ],
   "source": [
    "Precision=TP/(TP+FP)\n",
    "Precision"
   ]
  },
  {
   "cell_type": "code",
   "execution_count": 27,
   "id": "23ec9426",
   "metadata": {},
   "outputs": [
    {
     "data": {
      "text/plain": [
       "0.134"
      ]
     },
     "execution_count": 27,
     "metadata": {},
     "output_type": "execute_result"
    }
   ],
   "source": [
    "np.mean(d1_ytest)"
   ]
  },
  {
   "cell_type": "code",
   "execution_count": 28,
   "id": "b4675ade",
   "metadata": {},
   "outputs": [],
   "source": [
    "#Model has an overall accuracy of 86.6%, while it performs overall very well it is a very biased model\n",
    "#The main reason for the bias is that only 13.4% of the data are positive scores\n",
    "#As a result of the bias the model has a very poor Recall=TPR=4.48% score\n",
    "# The model has a bad precision value of 50% and an excellent FPR rate of 0.69%"
   ]
  },
  {
   "cell_type": "markdown",
   "id": "f7a106d1",
   "metadata": {},
   "source": [
    "Report the test performance on the unseen test dataset."
   ]
  },
  {
   "cell_type": "markdown",
   "id": "4f5eeddc",
   "metadata": {},
   "source": [
    "### Task 1.3 Regularisation\n",
    "\n",
    "In this sub-task, you are going to apply $L_2$ regularisation to the logistic regression model. The regularised loss is\n",
    "\n",
    "$$\n",
    "L(\\mathbf{w})=  \\frac{1}{n}\\sum_{i=1}^n -{y^{(i)}} \\ln \\sigma^{(i)}- (1- y^{(i)}) \\ln (1-\\sigma^{(i)}) + \\frac{\\lambda}{2} \\mathbf{w}^\\top\\mathbf{w}\n",
    "$$\n",
    "\n",
    "* where $\\lambda >0$ is the regularisation hyperparameter\n",
    "\n",
    "* note that we do not usually apply penalty on the bias parameter $b$\n",
    "\n",
    "Implement the following method that fits a regularised logistic regression model with a given $\\lambda$."
   ]
  },
  {
   "cell_type": "code",
   "execution_count": 29,
   "id": "0273d0e8",
   "metadata": {},
   "outputs": [],
   "source": [
    "def gradient_ce_reg_loss(w, X, y,lam):\n",
    "    eps=10**(-6)\n",
    "    gradient=np.zeros(len(w))\n",
    "    for i in range(len(w)):\n",
    "        e=np.zeros(len(w))\n",
    "        e[i]=1\n",
    "        gradient[i]=(cross_entropy_loss(w+e*eps,X,y)+lam/2*(w[1:len(w)-1]+eps*e[1:len(e)-1])@(w[1:len(w)-1]\n",
    "                     +eps*e[1:len(e)-1])-cross_entropy_loss(w-e*eps,X,y)\n",
    "                     -lam/2*(w[1:len(w)-1]-eps*e[1:len(e)-1])@(w[1:len(w)-1]-eps*e[1:len(e)-1])\n",
    "                    )/(2*eps)\n",
    "                    \n",
    "        \n",
    "    return gradient"
   ]
  },
  {
   "cell_type": "code",
   "execution_count": 30,
   "id": "9362f937",
   "metadata": {},
   "outputs": [],
   "source": [
    "def logistic_regression_reg_train(X, y, gamma, lam = 1.0, tol= 1e-4, maxIters= 100):\n",
    "    n, d = X.shape \n",
    "    # initialise w0\n",
    "    w0 = np.zeros(d)\n",
    "    \n",
    "    losses = []\n",
    "    # loop until converge\n",
    "    for i in range(maxIters):\n",
    "        loss=cross_entropy_loss(w0, X, y)+lam/2*w0[1:len(w0)-1]@w0[1:len(w0)-1]\n",
    "        gradient=gradient_ce_reg_loss(w0,X,y,lam)\n",
    "        w0 = w0 - gamma * gradient\n",
    "        losses.append(loss)\n",
    "        if i>=1:\n",
    "            if abs(losses[i]-losses[i-1])<=tol:\n",
    "                break\n",
    "    return w0,losses"
   ]
  },
  {
   "cell_type": "code",
   "execution_count": 31,
   "id": "e91302b9",
   "metadata": {},
   "outputs": [],
   "source": [
    "w0,losses=logistic_regression_reg_train(d1_xtrain_dummy,d1_ytrain,0.5,lam=0.03)"
   ]
  },
  {
   "cell_type": "code",
   "execution_count": 32,
   "id": "0203a75d",
   "metadata": {},
   "outputs": [
    {
     "data": {
      "text/plain": [
       "array([-1.82128152,  0.78365004, -0.44476571,  0.16274252, -0.03688272])"
      ]
     },
     "execution_count": 32,
     "metadata": {},
     "output_type": "execute_result"
    }
   ],
   "source": [
    "w0"
   ]
  },
  {
   "cell_type": "code",
   "execution_count": null,
   "id": "1aea35da",
   "metadata": {},
   "outputs": [],
   "source": []
  },
  {
   "cell_type": "code",
   "execution_count": 33,
   "id": "6c94e37b",
   "metadata": {},
   "outputs": [
    {
     "data": {
      "text/plain": [
       "Text(0, 0.5, 'loss')"
      ]
     },
     "execution_count": 33,
     "metadata": {},
     "output_type": "execute_result"
    },
    {
     "data": {
      "image/png": "[encoded data removed]",
      "text/plain": [
       "<Figure size 432x288 with 1 Axes>"
      ]
     },
     "metadata": {
      "needs_background": "light"
     },
     "output_type": "display_data"
    }
   ],
   "source": [
    "plt.plot(losses)\n",
    "plt.xlabel(\"iteration\")\n",
    "plt.ylabel(\"loss\")"
   ]
  },
  {
   "cell_type": "code",
   "execution_count": 34,
   "id": "ff666bb8",
   "metadata": {},
   "outputs": [
    {
     "data": {
      "text/plain": [
       "0.866"
      ]
     },
     "execution_count": 34,
     "metadata": {},
     "output_type": "execute_result"
    }
   ],
   "source": [
    "label=np.round(predict_logistic_regression(w0))\n",
    "label\n",
    "np.mean(label==d1_ytest)"
   ]
  },
  {
   "cell_type": "code",
   "execution_count": 35,
   "id": "228cc6f0",
   "metadata": {},
   "outputs": [
    {
     "data": {
      "text/plain": [
       "0.134"
      ]
     },
     "execution_count": 35,
     "metadata": {},
     "output_type": "execute_result"
    }
   ],
   "source": [
    "np.mean(d1_ytest)\n",
    "#bad proportion of data"
   ]
  },
  {
   "cell_type": "code",
   "execution_count": 36,
   "id": "5abefe00",
   "metadata": {},
   "outputs": [
    {
     "data": {
      "text/plain": [
       "array([-1.82128152,  0.78365004, -0.44476571,  0.16274252, -0.03688272])"
      ]
     },
     "execution_count": 36,
     "metadata": {},
     "output_type": "execute_result"
    }
   ],
   "source": [
    "w0\n"
   ]
  },
  {
   "cell_type": "code",
   "execution_count": null,
   "id": "5bf76479",
   "metadata": {},
   "outputs": [],
   "source": []
  },
  {
   "cell_type": "markdown",
   "id": "e4fe2830",
   "metadata": {},
   "source": [
    "Complete and report the following two results\n",
    "* report the training loss by setting $\\lambda=0.03$\n",
    "* report the testing performance for the regularised logistic regression model with $\\lambda=0.03$"
   ]
  },
  {
   "cell_type": "code",
   "execution_count": 37,
   "id": "7ebe2d11",
   "metadata": {},
   "outputs": [
    {
     "data": {
      "text/plain": [
       "0.3750398516071745"
      ]
     },
     "execution_count": 37,
     "metadata": {},
     "output_type": "execute_result"
    }
   ],
   "source": [
    "losses[len(losses)-1]#training loss"
   ]
  },
  {
   "cell_type": "code",
   "execution_count": 38,
   "id": "7643ba24",
   "metadata": {},
   "outputs": [
    {
     "data": {
      "text/plain": [
       "433"
      ]
     },
     "execution_count": 38,
     "metadata": {},
     "output_type": "execute_result"
    }
   ],
   "source": [
    "TN=np.sum(label[d1_ytest==0]==d1_ytest[d1_ytest==0])\n",
    "TN"
   ]
  },
  {
   "cell_type": "code",
   "execution_count": 39,
   "id": "5689cd84",
   "metadata": {},
   "outputs": [
    {
     "data": {
      "text/plain": [
       "0"
      ]
     },
     "execution_count": 39,
     "metadata": {},
     "output_type": "execute_result"
    }
   ],
   "source": [
    "FP=len(d1_ytest[d1_ytest==0])-TN\n",
    "FP"
   ]
  },
  {
   "cell_type": "code",
   "execution_count": 40,
   "id": "1edd2dcf",
   "metadata": {},
   "outputs": [
    {
     "data": {
      "text/plain": [
       "0"
      ]
     },
     "execution_count": 40,
     "metadata": {},
     "output_type": "execute_result"
    }
   ],
   "source": [
    "TP=np.sum(label[d1_ytest==1]==d1_ytest[d1_ytest==1])\n",
    "TP"
   ]
  },
  {
   "cell_type": "code",
   "execution_count": 41,
   "id": "15993dc7",
   "metadata": {},
   "outputs": [
    {
     "data": {
      "text/plain": [
       "67.0"
      ]
     },
     "execution_count": 41,
     "metadata": {},
     "output_type": "execute_result"
    }
   ],
   "source": [
    "FN=np.sum(d1_ytest[d1_ytest==1])-TP\n",
    "FN"
   ]
  },
  {
   "cell_type": "code",
   "execution_count": 42,
   "id": "86d3e964",
   "metadata": {},
   "outputs": [
    {
     "data": {
      "text/plain": [
       "0.866"
      ]
     },
     "execution_count": 42,
     "metadata": {},
     "output_type": "execute_result"
    }
   ],
   "source": [
    "accuracy=(TP+TN)/(TP+TN+FN+FP)\n",
    "accuracy"
   ]
  },
  {
   "cell_type": "code",
   "execution_count": 43,
   "id": "f72fa59b",
   "metadata": {},
   "outputs": [
    {
     "data": {
      "text/plain": [
       "0.0"
      ]
     },
     "execution_count": 43,
     "metadata": {},
     "output_type": "execute_result"
    }
   ],
   "source": [
    "TPR=TP/(TP+FN)\n",
    "TPR"
   ]
  },
  {
   "cell_type": "code",
   "execution_count": 44,
   "id": "15652297",
   "metadata": {},
   "outputs": [
    {
     "data": {
      "text/plain": [
       "0.0"
      ]
     },
     "execution_count": 44,
     "metadata": {},
     "output_type": "execute_result"
    }
   ],
   "source": [
    "FPR=FP/(FP+TN)\n",
    "FPR"
   ]
  },
  {
   "cell_type": "code",
   "execution_count": 45,
   "id": "d3ea6735",
   "metadata": {},
   "outputs": [
    {
     "data": {
      "text/plain": [
       "0.0"
      ]
     },
     "execution_count": 45,
     "metadata": {},
     "output_type": "execute_result"
    }
   ],
   "source": [
    "Recall=TPR\n",
    "Recall"
   ]
  },
  {
   "cell_type": "code",
   "execution_count": 46,
   "id": "55e85f6a",
   "metadata": {},
   "outputs": [
    {
     "name": "stderr",
     "output_type": "stream",
     "text": [
      "<ipython-input-46-b8e89c140ff6>:1: RuntimeWarning: invalid value encountered in scalar divide\n",
      "  Precision=TP/(TP+FP)\n"
     ]
    },
    {
     "data": {
      "text/plain": [
       "nan"
      ]
     },
     "execution_count": 46,
     "metadata": {},
     "output_type": "execute_result"
    }
   ],
   "source": [
    "Precision=TP/(TP+FP)\n",
    "Precision"
   ]
  },
  {
   "cell_type": "code",
   "execution_count": 47,
   "id": "5edd9c4b",
   "metadata": {},
   "outputs": [
    {
     "data": {
      "text/plain": [
       "0.134"
      ]
     },
     "execution_count": 47,
     "metadata": {},
     "output_type": "execute_result"
    }
   ],
   "source": [
    "np.mean(d1_ytest)"
   ]
  },
  {
   "cell_type": "code",
   "execution_count": 48,
   "id": "6d63acb9",
   "metadata": {},
   "outputs": [],
   "source": [
    "#Model has an overall accuracy of 86.6% again , the model still remains a very biased model after Regularisation\n",
    "#The main reason for the bias is that only 13.4% of the data are positive scores\n",
    "#As a result of the bias the model has a very poor Recall=TPR=0% score\n",
    "# The model has an undefined precision value since it never predicts Positive values with a FPR rate of 0%"
   ]
  },
  {
   "cell_type": "code",
   "execution_count": null,
   "id": "a5e49dfe",
   "metadata": {},
   "outputs": [],
   "source": []
  },
  {
   "cell_type": "markdown",
   "id": "a186950d",
   "metadata": {},
   "source": [
    "### Task 1.4 Cross-validation\n",
    "\n",
    "Use K-fold cross-validation (K=5) to choose the optimal $\\lambda$. You should use the cross entropy loss as the selection criteria. The candidate hyper-parameter set for $\\lambda$ should be 10 numbers between $10^{-3} = 0.001$ and $10^{0}=1$ (*i.e.* 10 numbers in log space). The candidate set is listed below. \n",
    "\n",
    "What is the optimal $\\lambda$?"
   ]
  },
  {
   "cell_type": "code",
   "execution_count": 49,
   "id": "0fad7b6e",
   "metadata": {},
   "outputs": [],
   "source": [
    "lambda_set = np.logspace(-3, 0, 10)\n",
    "\n",
    "loss_mean_lam=np.zeros(10)\n",
    "loss_std_lam=np.zeros(10)\n",
    "\n",
    "for i in range(10):    \n",
    "    loss_history=np.zeros(5)\n",
    "    for j in range(5):\n",
    "        \n",
    "        #splitting to validation and training datasets\n",
    "        x_validation=d1_xtrain_dummy[j*300:300*(j+1)]\n",
    "        x_train=np.vstack((d1_xtrain_dummy[0:j*300],d1_xtrain_dummy[(j+1)*300:len(d1_xtrain_dummy)]))\n",
    "        y_validation=d1_ytrain[j*300:300*(j+1)]\n",
    "        y_train=np.hstack((d1_ytrain[0:j*300],d1_ytrain[(j+1)*300:len(d1_ytrain)]))\n",
    "        \n",
    "        \n",
    "        w0,losses=logistic_regression_reg_train(x_train,y_train,0.3,lam=lambda_set[i])\n",
    "        \n",
    "        loss_history[j]=cross_entropy_loss(w0, x_validation, y_validation)+lambda_set[i]/2*w0[1:len(w0)-1]@w0[1:len(w0)-1]#add loss of lambda\n",
    "        \n",
    "    loss_mean_lam[i]=np.mean(loss_history)\n",
    "    loss_std_lam[i]=np.std(loss_history,ddof=1)\n"
   ]
  },
  {
   "cell_type": "code",
   "execution_count": 50,
   "id": "519fa916",
   "metadata": {},
   "outputs": [
    {
     "data": {
      "text/plain": [
       "array([0.001     , 0.00215443, 0.00464159, 0.01      , 0.02154435,\n",
       "       0.04641589, 0.1       , 0.21544347, 0.46415888, 1.        ])"
      ]
     },
     "execution_count": 50,
     "metadata": {},
     "output_type": "execute_result"
    }
   ],
   "source": [
    "lambda_set"
   ]
  },
  {
   "cell_type": "code",
   "execution_count": 51,
   "id": "4cbc215f",
   "metadata": {},
   "outputs": [
    {
     "data": {
      "text/plain": [
       "Text(0, 0.5, 'CV MSE')"
      ]
     },
     "execution_count": 51,
     "metadata": {},
     "output_type": "execute_result"
    },
    {
     "data": {
      "image/png": "[encoded data removed]",
      "text/plain": [
       "<Figure size 432x288 with 1 Axes>"
      ]
     },
     "metadata": {
      "needs_background": "light"
     },
     "output_type": "display_data"
    }
   ],
   "source": [
    "plt.plot(lambda_set,loss_mean_lam)\n",
    "plt.xscale('log')\n",
    "plt.gca().invert_xaxis()\n",
    "plt.errorbar(lambda_set,loss_mean_lam,yerr = loss_std_lam,\n",
    "             fmt ='o')\n",
    "plt.xlabel(r'$\\lambda$')\n",
    "plt.ylabel('CV MSE')"
   ]
  },
  {
   "cell_type": "code",
   "execution_count": 52,
   "id": "a214ff87",
   "metadata": {},
   "outputs": [],
   "source": [
    "#very high standard error for all lambda\n",
    "#lambda=1 is the obvious choice\n",
    "#method below could have been used if it was not obvious"
   ]
  },
  {
   "cell_type": "code",
   "execution_count": 53,
   "id": "202ef174",
   "metadata": {},
   "outputs": [],
   "source": [
    "#if value-standarderror>min+standarderror reject,\n",
    "#choose highest lambda that satisfies(lambda_value-standarderror<min_lambda+standarderror_min_lambda)\n",
    "list=[]\n",
    "for i in range(1,10):\n",
    "    if loss_mean_lam[i]-loss_std_lam[i]<=loss_mean_lam[0]+loss_std_lam[0]:\n",
    "        list.append(i)"
   ]
  },
  {
   "cell_type": "code",
   "execution_count": 54,
   "id": "6b540b40",
   "metadata": {},
   "outputs": [
    {
     "data": {
      "text/plain": [
       "[1, 2, 3, 4, 5, 6, 7, 8, 9]"
      ]
     },
     "execution_count": 54,
     "metadata": {},
     "output_type": "execute_result"
    }
   ],
   "source": [
    "list"
   ]
  },
  {
   "cell_type": "code",
   "execution_count": 55,
   "id": "57f9ec23",
   "metadata": {},
   "outputs": [
    {
     "data": {
      "text/plain": [
       "1.0"
      ]
     },
     "execution_count": 55,
     "metadata": {},
     "output_type": "execute_result"
    }
   ],
   "source": [
    "optimum_lambda=lambda_set[9]\n",
    "optimum_lambda"
   ]
  },
  {
   "cell_type": "markdown",
   "id": "d6f7c67c",
   "metadata": {},
   "source": [
    "### Task 1.5 Stochastic gradient descent \n",
    "\n",
    "\n",
    "Implement a stochastic gradient descent algorithm with mini-batch size of 1. You should consider shuffling the training dataset to improve the convergence speed."
   ]
  },
  {
   "cell_type": "code",
   "execution_count": 56,
   "id": "b73e1f52",
   "metadata": {},
   "outputs": [],
   "source": [
    "def logistic_regression_reg_sgd_train(X, y, gamma, lam = 1.0, tol= 1e-4, maxIters= 100):\n",
    "    n, d = X.shape \n",
    "    # initialise w0\n",
    "    w0 = np.zeros(d)\n",
    "    losses = []\n",
    "    # loop until converge\n",
    "        # for each observation (x^i, y^i) in (X, Y)\n",
    "            # compute gradient and apply gradient descent\n",
    "    for i in range(maxIters):\n",
    "        loss=0\n",
    "        rng = np.random.default_rng()\n",
    "        rng.shuffle(X)\n",
    "        rng.shuffle(y)\n",
    "        \n",
    "        for j in range(n):\n",
    "            #adding loss for each datapoint\n",
    "            loss+=cross_entropy_loss(w0, X[j], y[j])+lam/2*w0[1:len(w0)-1]@w0[1:len(w0)-1]\n",
    "            gradient=gradient_ce_reg_loss(w0, X[j], y[j],lam)\n",
    "            w0 = w0 - gamma * gradient\n",
    "        losses.append(loss/n)#adding mean error of all observations\n",
    "        if i>=1:\n",
    "            #checking difference of losses to stop training when it has reached the tolerance threshold\n",
    "            if abs(losses[i]-losses[i-1])<=tol:\n",
    "                break\n",
    "    return w0,losses"
   ]
  },
  {
   "cell_type": "code",
   "execution_count": 57,
   "id": "7cc4883d",
   "metadata": {},
   "outputs": [],
   "source": [
    "w0,losses=logistic_regression_reg_sgd_train(d1_xtrain_dummy,d1_ytrain,0.02,lam=0.03)"
   ]
  },
  {
   "cell_type": "code",
   "execution_count": 58,
   "id": "6e2eb29b",
   "metadata": {},
   "outputs": [
    {
     "data": {
      "text/plain": [
       "0.419812453208586"
      ]
     },
     "execution_count": 58,
     "metadata": {},
     "output_type": "execute_result"
    }
   ],
   "source": [
    "losses[len(losses)-1]#training loss"
   ]
  },
  {
   "cell_type": "code",
   "execution_count": null,
   "id": "bc7c7905",
   "metadata": {},
   "outputs": [],
   "source": []
  },
  {
   "cell_type": "code",
   "execution_count": 59,
   "id": "c9ec45b5",
   "metadata": {},
   "outputs": [],
   "source": [
    "label=np.round(predict_logistic_regression(w0))"
   ]
  },
  {
   "cell_type": "code",
   "execution_count": 60,
   "id": "5a5c3429",
   "metadata": {},
   "outputs": [
    {
     "data": {
      "text/plain": [
       "433"
      ]
     },
     "execution_count": 60,
     "metadata": {},
     "output_type": "execute_result"
    }
   ],
   "source": [
    "TN=np.sum(label[d1_ytest==0]==d1_ytest[d1_ytest==0])\n",
    "TN"
   ]
  },
  {
   "cell_type": "code",
   "execution_count": 61,
   "id": "476d43c7",
   "metadata": {},
   "outputs": [
    {
     "data": {
      "text/plain": [
       "0"
      ]
     },
     "execution_count": 61,
     "metadata": {},
     "output_type": "execute_result"
    }
   ],
   "source": [
    "FP=len(d1_ytest[d1_ytest==0])-TN\n",
    "FP"
   ]
  },
  {
   "cell_type": "code",
   "execution_count": 62,
   "id": "db497597",
   "metadata": {},
   "outputs": [
    {
     "data": {
      "text/plain": [
       "0"
      ]
     },
     "execution_count": 62,
     "metadata": {},
     "output_type": "execute_result"
    }
   ],
   "source": [
    "TP=np.sum(label[d1_ytest==1]==d1_ytest[d1_ytest==1])\n",
    "TP"
   ]
  },
  {
   "cell_type": "code",
   "execution_count": 63,
   "id": "277608c3",
   "metadata": {},
   "outputs": [
    {
     "data": {
      "text/plain": [
       "67.0"
      ]
     },
     "execution_count": 63,
     "metadata": {},
     "output_type": "execute_result"
    }
   ],
   "source": [
    "FN=np.sum(d1_ytest[d1_ytest==1])-TP\n",
    "FN"
   ]
  },
  {
   "cell_type": "code",
   "execution_count": 64,
   "id": "0918f318",
   "metadata": {},
   "outputs": [
    {
     "data": {
      "text/plain": [
       "0.866"
      ]
     },
     "execution_count": 64,
     "metadata": {},
     "output_type": "execute_result"
    }
   ],
   "source": [
    "accuracy=(TP+TN)/(TP+TN+FN+FP)\n",
    "accuracy"
   ]
  },
  {
   "cell_type": "code",
   "execution_count": 65,
   "id": "62943c31",
   "metadata": {},
   "outputs": [
    {
     "data": {
      "text/plain": [
       "0.0"
      ]
     },
     "execution_count": 65,
     "metadata": {},
     "output_type": "execute_result"
    }
   ],
   "source": [
    "TPR=TP/(TP+FN)\n",
    "TPR"
   ]
  },
  {
   "cell_type": "code",
   "execution_count": 66,
   "id": "2c8cb6ce",
   "metadata": {},
   "outputs": [
    {
     "data": {
      "text/plain": [
       "0.0"
      ]
     },
     "execution_count": 66,
     "metadata": {},
     "output_type": "execute_result"
    }
   ],
   "source": [
    "FPR=FP/(FP+TN)\n",
    "FPR"
   ]
  },
  {
   "cell_type": "code",
   "execution_count": 67,
   "id": "8b5c77b1",
   "metadata": {},
   "outputs": [
    {
     "data": {
      "text/plain": [
       "0.0"
      ]
     },
     "execution_count": 67,
     "metadata": {},
     "output_type": "execute_result"
    }
   ],
   "source": [
    "Recall=TPR\n",
    "Recall"
   ]
  },
  {
   "cell_type": "code",
   "execution_count": 68,
   "id": "a299d760",
   "metadata": {},
   "outputs": [
    {
     "name": "stderr",
     "output_type": "stream",
     "text": [
      "<ipython-input-68-b8e89c140ff6>:1: RuntimeWarning: invalid value encountered in scalar divide\n",
      "  Precision=TP/(TP+FP)\n"
     ]
    },
    {
     "data": {
      "text/plain": [
       "nan"
      ]
     },
     "execution_count": 68,
     "metadata": {},
     "output_type": "execute_result"
    }
   ],
   "source": [
    "Precision=TP/(TP+FP)\n",
    "Precision"
   ]
  },
  {
   "cell_type": "code",
   "execution_count": 69,
   "id": "90c8ac59",
   "metadata": {},
   "outputs": [
    {
     "data": {
      "text/plain": [
       "0.134"
      ]
     },
     "execution_count": 69,
     "metadata": {},
     "output_type": "execute_result"
    }
   ],
   "source": [
    "np.mean(d1_ytest)"
   ]
  },
  {
   "cell_type": "code",
   "execution_count": 70,
   "id": "d53297cf",
   "metadata": {},
   "outputs": [
    {
     "data": {
      "text/plain": [
       "0.3940465178875034"
      ]
     },
     "execution_count": 70,
     "metadata": {},
     "output_type": "execute_result"
    }
   ],
   "source": [
    "cross_entropy_loss(w0, d1_xtest_dummy, d1_ytest)+0.03/2*w0[1:len(w0)-1]@w0[1:len(w0)-1]#testing loss"
   ]
  },
  {
   "cell_type": "code",
   "execution_count": 71,
   "id": "726dad9e",
   "metadata": {},
   "outputs": [],
   "source": [
    "#Model has an overall accuracy of 86.6% again , the model still remains a very biased model even with SGD\n",
    "#The main reason for the bias is that only 13.4% of the data are positive scores\n",
    "#As a result of the bias the model has still a very poor Recall=TPR=0% score\n",
    "# The model has an undefined precision value since it never predicts Positive values and has a FPR rate of 0%"
   ]
  },
  {
   "cell_type": "markdown",
   "id": "cbb60af2",
   "metadata": {},
   "source": [
    "## Question 2 (Fixed basis expansion)\n",
    "\n",
    "\n",
    "\n",
    "In this question, we are going to implement a fixed basis expansion regression model. The dataset for this question has a univariate feature $\\mathbf{x}^{(i)} \\in \\mathbb{R}$ and as expected the target $y^{(i)} \\in \\mathbb{R}$ is real valued. \n",
    "\n",
    "\n",
    "The dataset is imported below for you:\n",
    "* ``dataset2``: 1000 observations and each input ${x}^{(i)}$ is a scalar \n",
    "* and the last column is the target ${y}^{(i)}$\n",
    "* the dataset is then split into training and testing parts"
   ]
  },
  {
   "cell_type": "code",
   "execution_count": 72,
   "id": "cd11514f",
   "metadata": {},
   "outputs": [],
   "source": [
    "# read in dataset2\n",
    "dataset2_df = pd.read_csv('./datasets/dataset2.csv', header=0)\n",
    "dataset2 = np.array(dataset2_df)\n",
    "d2X, d2Y = dataset2[:, 0], dataset2[:, -1]\n",
    "# split the data into training and testing \n",
    "# the training dataset has the first 800 observation; \n",
    "# in practice, you should randomly shuffle before the split\n",
    "d2_xtrain, d2_ytrain = d2X[0:800], d2Y[0:800]\n",
    "# # the testing dataset has the last 500\n",
    "d2_xtest, d2_ytest = d2X[800:], d2Y[800:]"
   ]
  },
  {
   "cell_type": "markdown",
   "id": "91f9bc20",
   "metadata": {},
   "source": [
    "The data is plotted below."
   ]
  },
  {
   "cell_type": "code",
   "execution_count": 73,
   "id": "de5eaa32",
   "metadata": {},
   "outputs": [
    {
     "data": {
      "image/png": "[encoded data removed]",
      "text/plain": [
       "<Figure size 432x288 with 1 Axes>"
      ]
     },
     "metadata": {
      "needs_background": "light"
     },
     "output_type": "display_data"
    }
   ],
   "source": [
    "plt.scatter(d2_xtrain, d2_ytrain,  c =\"blue\", s=1.5)\n",
    "plt.xlabel(\"x\")\n",
    "plt.ylabel(\"y\")\n",
    "plt.show()"
   ]
  },
  {
   "cell_type": "markdown",
   "id": "619c80c5",
   "metadata": {},
   "source": [
    "### Task 2.1 Basis function\n",
    "\n",
    "Implement the radian-basis-function (rbf), \n",
    "\n",
    "$$\\phi(x; \\mu, s) = \\exp\\left \\{- \\frac{(x-\\mu)^2}{2s} \\right \\}$$"
   ]
  },
  {
   "cell_type": "code",
   "execution_count": 74,
   "id": "c6a7e0d5",
   "metadata": {},
   "outputs": [],
   "source": [
    "def phi_rbf(x, mu, s):\n",
    "    return np.exp(-(x-mu)**2/(2*s))"
   ]
  },
  {
   "cell_type": "code",
   "execution_count": 75,
   "id": "8be198d9",
   "metadata": {},
   "outputs": [
    {
     "data": {
      "image/png": "[encoded data removed]",
      "text/plain": [
       "<Figure size 432x288 with 1 Axes>"
      ]
     },
     "metadata": {
      "needs_background": "light"
     },
     "output_type": "display_data"
    }
   ],
   "source": [
    "s=0.01\n",
    "plt.scatter(d2_xtrain,phi_rbf(d2_xtrain,0.5,s))\n",
    "plt.scatter(d2_xtrain,phi_rbf(d2_xtrain,0.6,s))\n",
    "plt.scatter(d2_xtrain,d2_ytrain,s=1.5)\n",
    "plt.xlabel(\"x\")\n",
    "plt.ylabel(\"y\")\n",
    "plt.legend(['rbf at x=0.5', 'rbf at x=0.6','target function'])\n",
    "plt.show()\n",
    "#the above parameters were chosen as a good fit\n",
    "#with 11 locatons from x=0 to x=1 \n",
    "#the plots of the rbf function at x=0.5 and x=0.6 are also shown below which do a good job at finding the variation of y"
   ]
  },
  {
   "cell_type": "code",
   "execution_count": null,
   "id": "a73c183a",
   "metadata": {},
   "outputs": [],
   "source": []
  },
  {
   "cell_type": "markdown",
   "id": "19607083",
   "metadata": {},
   "source": [
    "### Task 2.2 Fixed basis expansion regression\n",
    "\n",
    "Implement the fixed basis expansion regression model. Specifically, you should \n",
    "* first apply $K$ fixed basis expansion on the input $\\{x^{(i)}\\}$ to form the expanded design matrix $\\mathbf{\\Phi}$\n",
    "* then fit a regression model by a non-iterative algorithm (*i.e.* the normal equation method)\n",
    "\n",
    "* you are free to choose the $K$ expansion locations, some possible choices\n",
    "  * select  locations with evenly spaced intervals between $x$'s range \n",
    "  * randomly choose  observations from the  training data \n",
    "  * randomly select $K$ points within $\\{x^{(i)}\\}$'s range"
   ]
  },
  {
   "cell_type": "code",
   "execution_count": 76,
   "id": "07a62577",
   "metadata": {},
   "outputs": [],
   "source": [
    "mus=np.linspace(0,1,11)"
   ]
  },
  {
   "cell_type": "code",
   "execution_count": 77,
   "id": "f410daa8",
   "metadata": {},
   "outputs": [
    {
     "data": {
      "text/plain": [
       "array([0. , 0.1, 0.2, 0.3, 0.4, 0.5, 0.6, 0.7, 0.8, 0.9, 1. ])"
      ]
     },
     "execution_count": 77,
     "metadata": {},
     "output_type": "execute_result"
    }
   ],
   "source": [
    "mus"
   ]
  },
  {
   "cell_type": "code",
   "execution_count": 78,
   "id": "51f5ced8",
   "metadata": {},
   "outputs": [],
   "source": [
    "\n",
    "\n",
    "def fixed_basis_rbf_reg(X, y, mus, s):\n",
    "    matrix=np.zeros([X.size,len(mus)+1])#initialise phi matrix\n",
    "    \n",
    "    for i in range(len(mus)+1):\n",
    "        for j in range(X.size):\n",
    "            if i==0:\n",
    "                matrix[j,i]=1#ones for bias \n",
    "            else:\n",
    "                matrix[j,i]=phi_rbf(X[j],mus[i-1],s)# for weights\n",
    "    \n",
    "    w=np.linalg.inv(np.transpose(matrix)@matrix)@np.transpose(matrix)@y#normal equation\n",
    "    \n",
    "    return w"
   ]
  },
  {
   "cell_type": "code",
   "execution_count": 79,
   "id": "992c5093",
   "metadata": {},
   "outputs": [],
   "source": [
    "s=0.01"
   ]
  },
  {
   "cell_type": "code",
   "execution_count": 80,
   "id": "1a784f7e",
   "metadata": {},
   "outputs": [],
   "source": [
    "w=fixed_basis_rbf_reg(d2_xtrain, d2_ytrain, mus, s)"
   ]
  },
  {
   "cell_type": "code",
   "execution_count": 81,
   "id": "e81bb68e",
   "metadata": {},
   "outputs": [
    {
     "data": {
      "text/plain": [
       "array([  1.01278609,   1.53863122,  -2.46536041,   3.36988626,\n",
       "        -3.12262861,   3.68124644,  -1.35461154,   1.86425463,\n",
       "        -3.50122576,  12.36151097, -11.46068886,   7.56383312])"
      ]
     },
     "execution_count": 81,
     "metadata": {},
     "output_type": "execute_result"
    }
   ],
   "source": [
    "w"
   ]
  },
  {
   "cell_type": "markdown",
   "id": "734f6341",
   "metadata": {},
   "source": [
    "Implement a `predict` method, that output the prediction $\\hat{y}$ given input $x_{test}$\n",
    "* ideally, your method should be able to predict multiple input at the same time (vectorised)\n",
    "\n",
    "* plot the fitted function on top of the scatter plot of the training data"
   ]
  },
  {
   "cell_type": "code",
   "execution_count": 82,
   "id": "4f382887",
   "metadata": {},
   "outputs": [],
   "source": [
    "def predict_rbf_reg(X, w, mus, s):\n",
    "    #calculation phi_matrix again for the test_set dimensions\n",
    "    matrix=np.zeros([X.size,len(mus)+1])\n",
    "    \n",
    "    for i in range(len(mus)+1):\n",
    "        for j in range(X.size):\n",
    "            if i==0:\n",
    "                matrix[j,i]=1\n",
    "            else:\n",
    "                matrix[j,i]=phi_rbf(X[j],mus[i-1],s)\n",
    "    y=matrix@w\n",
    "    \n",
    "    return y"
   ]
  },
  {
   "cell_type": "code",
   "execution_count": 83,
   "id": "f9344227",
   "metadata": {},
   "outputs": [],
   "source": [
    "y=predict_rbf_reg(d2_xtest, w, mus, s)"
   ]
  },
  {
   "cell_type": "code",
   "execution_count": 84,
   "id": "ddad378c",
   "metadata": {},
   "outputs": [
    {
     "data": {
      "image/png": "[encoded data removed]",
      "text/plain": [
       "<Figure size 432x288 with 1 Axes>"
      ]
     },
     "metadata": {
      "needs_background": "light"
     },
     "output_type": "display_data"
    }
   ],
   "source": [
    "plt.scatter(d2_xtest,y,c =\"red\", s=1.5)\n",
    "plt.scatter(d2_xtest, d2_ytest,  c =\"blue\", s=1.5)\n",
    "plt.legend(['Prediction y','Target y'])\n",
    "plt.xlabel(\"x\")\n",
    "plt.ylabel(\"y\")\n",
    "plt.show()"
   ]
  },
  {
   "cell_type": "markdown",
   "id": "567fcac5",
   "metadata": {},
   "source": [
    "### Task 2.3 Other basis function\n",
    "\n",
    "\n",
    "Implement another basis function of your choice and fit the regression model. Plot the fitted result below."
   ]
  },
  {
   "cell_type": "code",
   "execution_count": 85,
   "id": "198deea3",
   "metadata": {},
   "outputs": [],
   "source": [
    "def phi_logistic(x, mu, s):\n",
    "    return 1/(1+np.exp(-(x-mu)/(s)))"
   ]
  },
  {
   "cell_type": "code",
   "execution_count": 86,
   "id": "6efe8020",
   "metadata": {},
   "outputs": [],
   "source": [
    "y_=phi_logistic(d2_xtrain,0.3,0.05)"
   ]
  },
  {
   "cell_type": "code",
   "execution_count": 87,
   "id": "17732162",
   "metadata": {},
   "outputs": [
    {
     "data": {
      "image/png": "[encoded data removed]",
      "text/plain": [
       "<Figure size 432x288 with 1 Axes>"
      ]
     },
     "metadata": {
      "needs_background": "light"
     },
     "output_type": "display_data"
    }
   ],
   "source": [
    "plt.scatter(d2_xtrain,phi_logistic(d2_xtrain,0.5,0.05),c='blue',s=1.5)\n",
    "plt.scatter(d2_xtrain,phi_logistic(d2_xtrain,0.6,0.05),c='red',s=1.5)\n",
    "plt.scatter(d2_xtrain,d2_ytrain,c='green',s=1.5)\n",
    "plt.legend(['Logistic_f at x=0.5','Logistic_f at x=0.6','target function'])\n",
    "plt.xlabel(\"x\")\n",
    "plt.ylabel(\"y\")\n",
    "plt.show()\n",
    "\n",
    "#the above parameters were chosen as a good fit\n",
    "#with 11 locatons from x=0 to x=1 \n",
    "#the plots of the phi_logistic function at x=0.5 and x=0.6 are also shown below which do a good job at finding the variation of y"
   ]
  },
  {
   "cell_type": "code",
   "execution_count": 88,
   "id": "8dbe4851",
   "metadata": {},
   "outputs": [],
   "source": [
    "s=0.05"
   ]
  },
  {
   "cell_type": "code",
   "execution_count": 89,
   "id": "793dc64f",
   "metadata": {},
   "outputs": [],
   "source": [
    "def fixed_basis_logistic_reg(X, y, mus, s):\n",
    "    matrix=np.zeros([X.size,len(mus)+1])#initialise matrix\n",
    "    \n",
    "    for i in range(len(mus)+1):\n",
    "        for j in range(X.size):\n",
    "            if i==0:\n",
    "                matrix[j,i]=1#for bias\n",
    "            else:\n",
    "                matrix[j,i]=phi_logistic(X[j],mus[i-1],s)#for weights\n",
    "    \n",
    "    w=np.linalg.inv(np.transpose(matrix)@matrix)@np.transpose(matrix)@y#normal equation\n",
    "    \n",
    "    \n",
    "    return w"
   ]
  },
  {
   "cell_type": "code",
   "execution_count": 90,
   "id": "c272db0d",
   "metadata": {},
   "outputs": [],
   "source": [
    "w=fixed_basis_logistic_reg(d2_xtrain, d2_ytrain, mus, s)"
   ]
  },
  {
   "cell_type": "code",
   "execution_count": 91,
   "id": "9fb256bc",
   "metadata": {},
   "outputs": [],
   "source": [
    "def predict_logistic_reg(X, w, mus, s):\n",
    "    \n",
    "    #calculate phi_matrix again for test set\n",
    "    matrix=np.zeros([X.size,len(mus)+1])\n",
    "    for i in range(len(mus)+1):\n",
    "        for j in range(X.size):\n",
    "            if i==0:\n",
    "                matrix[j,i]=1\n",
    "            else:\n",
    "                matrix[j,i]=phi_logistic(X[j],mus[i-1],s)\n",
    "    y=matrix@w\n",
    "    \n",
    "    return y"
   ]
  },
  {
   "cell_type": "code",
   "execution_count": 92,
   "id": "234ac4af",
   "metadata": {},
   "outputs": [],
   "source": [
    "y=predict_logistic_reg(d2_xtest, w, mus, s)"
   ]
  },
  {
   "cell_type": "code",
   "execution_count": 93,
   "id": "bf0ad9db",
   "metadata": {},
   "outputs": [
    {
     "data": {
      "image/png": "[encoded data removed]",
      "text/plain": [
       "<Figure size 432x288 with 1 Axes>"
      ]
     },
     "metadata": {
      "needs_background": "light"
     },
     "output_type": "display_data"
    }
   ],
   "source": [
    "plt.scatter(d2_xtest,y,c =\"red\", s=1.5)\n",
    "plt.scatter(d2_xtest, d2_ytest,  c =\"blue\", s=1.5)\n",
    "plt.legend(['Prediction y','Target y'])\n",
    "plt.xlabel(\"x\")\n",
    "plt.ylabel(\"y\")\n",
    "plt.show()"
   ]
  },
  {
   "cell_type": "code",
   "execution_count": 94,
   "id": "06449095",
   "metadata": {},
   "outputs": [
    {
     "data": {
      "image/png": "[encoded data removed]",
      "text/plain": [
       "<Figure size 432x288 with 1 Axes>"
      ]
     },
     "metadata": {
      "needs_background": "light"
     },
     "output_type": "display_data"
    }
   ],
   "source": [
    "plt.scatter(d2_xtest, abs(d2_ytest-y),  c =\"blue\", s=1.5)\n",
    "plt.xlabel(\"x\")\n",
    "plt.ylabel(\"y\")\n",
    "plt.show()"
   ]
  },
  {
   "cell_type": "markdown",
   "id": "d43d08f8",
   "metadata": {},
   "source": [
    "### Task 2.4 Advanced task (extension*)\n",
    "\n",
    "We assume the noise scale is a constant for ordinary linear regresssion model. However, the noise scale for this dataset increases as $x$ gets larger. This is known as heteroscedasticity. Fit a fixed basis regression model that can also learn the heteroscedasticity. Your are allowed to use auto-differentiation for this question."
   ]
  },
  {
   "cell_type": "markdown",
   "id": "ed2cd626",
   "metadata": {},
   "source": [
    "## References used below"
   ]
  },
  {
   "cell_type": "markdown",
   "id": "7fcd5d66",
   "metadata": {},
   "source": [
    "\n",
    " # https://www.stat.cmu.edu/~cshalizi/mreg/15/lectures/24/lecture-24--25.pdf\n",
    " # https://medium.com/datamotus/solving-the-problem-of-heteroscedasticity-through-weighted-regression-e4a22f1afa6b\n"
   ]
  },
  {
   "cell_type": "code",
   "execution_count": 95,
   "id": "ffb0ad18",
   "metadata": {},
   "outputs": [],
   "source": [
    "#Maximum likehood estimation will be applied, since standard deviation is not constant only weights will be optimised\n",
    "#with least squares method for every data point\n",
    "#logistic functions are used to form the phi matrix\n",
    "#minimise summation of (y_i-w@x_i)^2*1/(sigma_i)^2 where i is each observation \n",
    "#and sigma is the standard deviation at each data point.\n",
    "#it was assumed that var(yi) is proportional to xi*sigma^2_general\n",
    "#where sigma^2_general is a constant term\n",
    "#this leads to the minimisation of the following:summation of (y_i-w@x_i)^2*1/x_i where i is the i_th observation \n",
    "\n",
    "def weighted_regression_loss(w, x, y,mus):\n",
    "    \n",
    "    #forming phi_matrix below \n",
    "    matrix=np.zeros([x.size,len(mus)+1])\n",
    "    for i in range(len(mus)+1):\n",
    "        for j in range(x.size):\n",
    "            if i==0:\n",
    "                matrix[j,i]=1\n",
    "            else:\n",
    "                matrix[j,i]=phi_logistic(x[j],mus[i-1],s)\n",
    "                \n",
    "    y_=matrix@w#prediction\n",
    "    \n",
    "    loss_squared=(y-y_)**2#squared error\n",
    "    \n",
    "    weighted_error=np.mean(loss_squared*1/x)\n",
    "    return weighted_error"
   ]
  },
  {
   "cell_type": "code",
   "execution_count": 96,
   "id": "47d99c2f",
   "metadata": {},
   "outputs": [],
   "source": [
    "def gradient_ce_loss(w, X, y,mus):\n",
    "    eps=10**(-6)\n",
    "    gradient=np.zeros(len(w))\n",
    "    for i in range(len(w)):\n",
    "        e=np.zeros(len(w))\n",
    "        e[i]=1\n",
    "        gradient[i]=(weighted_regression_loss(w+e*eps,X,y,mus)-weighted_regression_loss(w-e*eps,X,y,mus))/(2*eps)\n",
    "        \n",
    "    return gradient"
   ]
  },
  {
   "cell_type": "code",
   "execution_count": 97,
   "id": "23362cec",
   "metadata": {},
   "outputs": [],
   "source": [
    "def weighted_regression_train(X, y, gamma,mus, tol= 1e-4, maxIters= 1000):\n",
    "    #n, d = X.shape \n",
    "    # initialise w0\n",
    "    w0 = np.zeros(len(mus)+1)\n",
    "    losses = []\n",
    "    # loop until converge\n",
    "    for i in range(maxIters):\n",
    "        loss=weighted_regression_loss(w0, X, y,mus)\n",
    "        gradient=gradient_ce_loss(w0,X,y,mus)\n",
    "        w0 = w0 - gamma * gradient\n",
    "        losses.append(loss)\n",
    "        if i>=1:\n",
    "            if abs(losses[i]-losses[i-1])<=tol:\n",
    "                break\n",
    "    return w0,losses"
   ]
  },
  {
   "cell_type": "code",
   "execution_count": null,
   "id": "67c6801c",
   "metadata": {},
   "outputs": [],
   "source": []
  },
  {
   "cell_type": "code",
   "execution_count": 98,
   "id": "12fe2a52",
   "metadata": {},
   "outputs": [],
   "source": [
    "w,losses=weighted_regression_train(d2_xtrain, d2_ytrain, 0.01,mus,maxIters= 20)"
   ]
  },
  {
   "cell_type": "code",
   "execution_count": 99,
   "id": "782ff340",
   "metadata": {},
   "outputs": [
    {
     "data": {
      "image/png": "[encoded data removed]",
      "text/plain": [
       "<Figure size 432x288 with 1 Axes>"
      ]
     },
     "metadata": {
      "needs_background": "light"
     },
     "output_type": "display_data"
    }
   ],
   "source": [
    "plt.plot(losses)\n",
    "plt.xlabel(\"x\")\n",
    "plt.ylabel(\"y\")\n",
    "plt.show()"
   ]
  },
  {
   "cell_type": "code",
   "execution_count": 100,
   "id": "dbad9ee5",
   "metadata": {},
   "outputs": [],
   "source": [
    "y=predict_logistic_reg(d2_xtest, w, mus, s)"
   ]
  },
  {
   "cell_type": "code",
   "execution_count": 101,
   "id": "bf20d4bf",
   "metadata": {},
   "outputs": [
    {
     "data": {
      "image/png": "[encoded data removed]",
      "text/plain": [
       "<Figure size 432x288 with 1 Axes>"
      ]
     },
     "metadata": {
      "needs_background": "light"
     },
     "output_type": "display_data"
    }
   ],
   "source": [
    "plt.scatter(d2_xtest,y,c =\"red\", s=1.5)\n",
    "plt.scatter(d2_xtest, d2_ytest,  c =\"blue\", s=1.5)\n",
    "plt.xlabel(\"x\")\n",
    "plt.ylabel(\"y\")\n",
    "plt.show()"
   ]
  },
  {
   "cell_type": "markdown",
   "id": "f9b10cb5",
   "metadata": {},
   "source": [
    "## Submission\n",
    "Hand in via Moodle: the completed jupyter notebook.\n",
    "\n"
   ]
  },
  {
   "cell_type": "markdown",
   "id": "4422044c",
   "metadata": {},
   "source": [
    "## Marking\n",
    "Your submission will be marked as a whole. \n",
    "\n",
    "* to get a grade above 7, you are expected to finish at least Task 1.1-1.2 to a good standard\n",
    "* to get a grade above 10 and up to 13, you are expected to answer Task 1.1-1.2 and Task 2.1-2.2 to a good standard\n",
    "* to get a grade above 13 and up to 17, you are expected to answer all tasks except Task 1.5 and 2.4 to a good standard\n",
    "* to achieve a grade of 17-18, you are expected to finish all tasks except Task 2.4 flawlessly \n",
    "* to get 18+, you are expected to attempt all questions flawlessly\n",
    "\n",
    "\n",
    "Marking is according to the standard mark descriptors published in the Student Handbook at:\n",
    "\n",
    "https://info.cs.st-andrews.ac.uk/student-handbook/learning-teaching/feedback.html#GeneralMarkDescriptors\n",
    "\n",
    "\n",
    "You must reference any external sources used. Guidelines for good academic practice are outlined in the student handbook at https://info.cs.st-andrews.ac.uk/student-handbook/academic/gap.html\n",
    "\n",
    "\n",
    "## Submission dates\n",
    "There are no fixed submission dates. Formal exam boards are held in January, May and September. Any provisional grades recorded on MMS are discussed by the Programme team and the External Examiner. Credits for a module can only be obtained after all the coursework has been discussed at an exam board, so students must submit work at least three weeks before the board date, giving time for grading and preparation of feedback.\n",
    "\n",
    "https://www.st-andrews.ac.uk/education/staff/assessment/reporting/"
   ]
  }
 ],
 "metadata": {
  "kernelspec": {
   "display_name": "Python 3",
   "language": "python",
   "name": "python3"
  },
  "language_info": {
   "codemirror_mode": {
    "name": "ipython",
    "version": 3
   },
   "file_extension": ".py",
   "mimetype": "text/x-python",
   "name": "python",
   "nbconvert_exporter": "python",
   "pygments_lexer": "ipython3",
   "version": "3.8.8"
  }
 },
 "nbformat": 4,
 "nbformat_minor": 5
}
