{
 "cells": [
  {
   "cell_type": "markdown",
   "id": "955fc8e4",
   "metadata": {},
   "source": [
    "# Assignment1 "
   ]
  },
  {
   "cell_type": "code",
   "execution_count": 1,
   "id": "0ba9caa6",
   "metadata": {},
   "outputs": [],
   "source": [
    "import re"
   ]
  },
  {
   "cell_type": "code",
   "execution_count": 2,
   "id": "688ed227",
   "metadata": {},
   "outputs": [],
   "source": [
    "def max_char_length_count(n_array,length):\n",
    "    length_count=[0]*length#array with length of numbers\n",
    "    \n",
    "    for i in range(length):\n",
    "        length=0\n",
    "        number=n_array[i]\n",
    "        \n",
    "        if number==0:\n",
    "            length=1\n",
    "        else:\n",
    "            \n",
    "            while number>=1:\n",
    "                number=number//10\n",
    "                length=length+1\n",
    "            \n",
    "        length_count[i]=length\n",
    "        \n",
    "    return(length_count)"
   ]
  },
  {
   "cell_type": "code",
   "execution_count": 3,
   "id": "de68c9c6",
   "metadata": {},
   "outputs": [],
   "source": [
    "def words_length(words,length):\n",
    "    words_count=[0]*length\n",
    "    for i in range(length):\n",
    "        words_count[i]=len(words[i])\n",
    "    return(words_count)    \n",
    "        "
   ]
  },
  {
   "cell_type": "code",
   "execution_count": 4,
   "id": "8b633a47",
   "metadata": {},
   "outputs": [],
   "source": [
    "def table_print(words,n_array,words_count,num_count,length):\n",
    "        \n",
    "    max_char_numbers=max(num_count)# length of biggest number\n",
    "    \n",
    "    count_length=5 #length of the word 'count'\n",
    "    \n",
    "    max_word_numbers=max(words_count)#length of biggest word\n",
    "    \n",
    "    word_length=4 #length of the word 'word'\n",
    "    \n",
    "    word_TOTAL_length=5#length of the word 'Total'\n",
    "    \n",
    "    word_length_header=max([word_TOTAL_length,max_word_numbers])#maximum length between the length of the words and word 'Total'\n",
    "    #for sizing purposes\n",
    "    \n",
    "    count_length_header=max([max_char_numbers,count_length])#maximum length between the lenth of the numbers and the word 'count'\n",
    "    \n",
    "    \n",
    "    #constructing table before the words/count part\n",
    "    text='|'\n",
    "    for i in range(word_length_header+2):#+2 for the extra 2 spaces,1 at the start and 1 at the end\n",
    "        text+=\"-\"\n",
    "    text+=\"|\"\n",
    "    for i in range(count_length_header+2):#+2 for the extra 2 spaces,1 at the start and 1 at the end\n",
    "        text+=\"-\"\n",
    "    text+=\"|\\n| WORD\"\n",
    "    for i in range(word_length_header-word_length+1):#+1 for the extra 1 space at the end\n",
    "        text+=\" \"\n",
    "    text+=\"| COUNT\"\n",
    "    for i in range(count_length_header-count_length+1):#+1 for the extra 1 space at the end\n",
    "        text+=\" \"\n",
    "    text+=\"|\\n|\"\n",
    "    \n",
    "    for i in range(word_length_header+2):#+2 for the extra 2 spaces,1 at the start and 1 at the end\n",
    "        text+=\"-\"\n",
    "    text+=\"|\"\n",
    "    for i in range(count_length_header+2):#+2 for the extra 2 spaces,1 at the start and 1 at the end\n",
    "        text+=\"-\"\n",
    "    text+=\"|\\n\"\n",
    "    \n",
    "    \n",
    "    #constructing table for the words part\n",
    "    for i in range(length):\n",
    "        text+=\"| \"\n",
    "        text+=\"{}\".format(words[i])\n",
    "        for k in range(word_length_header-words_count[i]+1):#+1 for the extra 1 space at the end\n",
    "            text+=\" \"\n",
    "        text+=\"|\"\n",
    "        for l in range(count_length_header+1-num_count[i]):#+1 for the extra 1 space at the start\n",
    "            text+=\" \"\n",
    "        text+=\"{}\".format(n_array[i])\n",
    "        text+=\" |\\n\"\n",
    "    \n",
    "    \n",
    "    #constructing line before Total\n",
    "    text+='|'\n",
    "    for i in range(word_length_header+2):#+2 for the extra 2 spaces,1 at the start and 1 at the end\n",
    "        text+=\"-\"\n",
    "    text+=\"|\"\n",
    "    for i in range(count_length_header+2):#+2 for the extra 2 spaces,1 at the start and 1 at the end\n",
    "        text+=\"-\"\n",
    "    \n",
    "    \n",
    "    #constructing line with total\n",
    "    text+=\"|\\n| \"\n",
    "    text+=\"TOTAL\"\n",
    "    for i in range(word_length_header-word_TOTAL_length+1):#+1 for the extra 1 space at the end\n",
    "        text+=\" \"\n",
    "    text+=\"|\"\n",
    "    for i in range(count_length_header-num_count[length]+1):#+1 for the extra 1 space at the start\n",
    "        text+=\" \"\n",
    "    text+=\"{} |\\n|\".format(n_array[length])\n",
    "    \n",
    "    \n",
    "    #constructing final line with -\n",
    "    for i in range(word_length_header+2):#+2 for the extra 2 spaces,1 at the start and 1 at the end\n",
    "        text+=\"-\"\n",
    "    text+=\"|\"\n",
    "    for i in range(count_length_header+2):#+2 for the extra 2 spaces,1 at the start and 1 at the end\n",
    "        text+=\"-\"\n",
    "    text+=\"|\"\n",
    "    \n",
    "    return text\n",
    "    "
   ]
  },
  {
   "cell_type": "code",
   "execution_count": 5,
   "id": "4b80aa9b",
   "metadata": {},
   "outputs": [],
   "source": [
    "\n",
    "def word_count_summary(path,words):\n",
    "    \n",
    "    f = open(path,\"r\",encoding='utf-8')\n",
    "    text=f.read()\n",
    "    \n",
    "    #if single word,print in 1 sentence\n",
    "    if type(words) is not list:\n",
    "        n_array=len(re.findall(\"\\\\b\"+words+\"\\\\b\", text))\n",
    "     \n",
    "        string=\"The word '{}' appears {} times\".format(words,n_array)\n",
    "        \n",
    "    #more than 1 word print table\n",
    "    else:\n",
    "        \n",
    "        l=len(words) #number of words\n",
    "        n_array=[0]*l#array with number of findings for each word\n",
    "        \n",
    "        for i in range(l):\n",
    "            n_array[i]=len(re.findall(\"\\\\b\"+words[i]+\"\\\\b\", text))#filling array with number of findings\n",
    "        \n",
    "        sum_n_array=sum(n_array)#sum of findings for all words\n",
    "        \n",
    "        n_array.append(sum_n_array) #appending sum of findings as the total of the number of findings\n",
    "        \n",
    "        num_count=max_char_length_count(n_array,l+1) #array with the length of numbers for findings\n",
    "        \n",
    "        words_count=words_length(words,l)#array with length of words for findings\n",
    "        \n",
    "        string=table_print(words,n_array,words_count,num_count,l) #string with table\n",
    "        \n",
    "    f.close()\n",
    "    \n",
    "    return(string)    "
   ]
  },
  {
   "cell_type": "markdown",
   "id": "6cc46bee",
   "metadata": {},
   "source": [
    "## Testing cases below"
   ]
  },
  {
   "cell_type": "code",
   "execution_count": 6,
   "id": "f36a41a7",
   "metadata": {},
   "outputs": [
    {
     "name": "stdout",
     "output_type": "stream",
     "text": [
      "The word 'Elizabeth' appears 634 times\n"
     ]
    }
   ],
   "source": [
    "print (word_count_summary(\"Resources/pride-and-prejudice.txt\", \"Elizabeth\"))"
   ]
  },
  {
   "cell_type": "code",
   "execution_count": 7,
   "id": "84bc9ccb",
   "metadata": {},
   "outputs": [
    {
     "name": "stdout",
     "output_type": "stream",
     "text": [
      "The word 'the' appears 4060 times\n"
     ]
    }
   ],
   "source": [
    "print (word_count_summary(\"Resources/pride-and-prejudice.txt\", \"the\"))"
   ]
  },
  {
   "cell_type": "code",
   "execution_count": 8,
   "id": "8af1894b",
   "metadata": {},
   "outputs": [
    {
     "name": "stdout",
     "output_type": "stream",
     "text": [
      "|-----------|-------|\n",
      "| WORD      | COUNT |\n",
      "|-----------|-------|\n",
      "| Jane      |   292 |\n",
      "| Elizabeth |   634 |\n",
      "| Mary      |    39 |\n",
      "| Kitty     |    71 |\n",
      "| Lydia     |   170 |\n",
      "|-----------|-------|\n",
      "| TOTAL     |  1206 |\n",
      "|-----------|-------|\n"
     ]
    }
   ],
   "source": [
    "print(word_count_summary(\"Resources/pride-and-prejudice.txt\", [\"Jane\", \"Elizabeth\", \"Mary\", \"Kitty\", \"Lydia\"]))"
   ]
  },
  {
   "cell_type": "code",
   "execution_count": 9,
   "id": "78875143",
   "metadata": {},
   "outputs": [
    {
     "name": "stdout",
     "output_type": "stream",
     "text": [
      "The word 'times' appears 51 times\n"
     ]
    }
   ],
   "source": [
    "print(word_count_summary(\"Resources/a-tale-of-two-cities.txt\", \"times\"))"
   ]
  },
  {
   "cell_type": "code",
   "execution_count": 10,
   "id": "7777c388",
   "metadata": {},
   "outputs": [
    {
     "name": "stdout",
     "output_type": "stream",
     "text": [
      "|--------|-------|\n",
      "| WORD   | COUNT |\n",
      "|--------|-------|\n",
      "| London |    28 |\n",
      "| Paris  |    63 |\n",
      "|--------|-------|\n",
      "| TOTAL  |    91 |\n",
      "|--------|-------|\n"
     ]
    }
   ],
   "source": [
    "print(word_count_summary(\"Resources/a-tale-of-two-cities.txt\", [\"London\", \"Paris\"])) "
   ]
  },
  {
   "cell_type": "code",
   "execution_count": 11,
   "id": "f3beeaaf",
   "metadata": {},
   "outputs": [
    {
     "name": "stdout",
     "output_type": "stream",
     "text": [
      "The word 'pizza' appears 0 times\n"
     ]
    }
   ],
   "source": [
    "print(word_count_summary(\"Resources/a-tale-of-two-cities.txt\", \"pizza\"))"
   ]
  },
  {
   "cell_type": "code",
   "execution_count": 12,
   "id": "823c6027",
   "metadata": {},
   "outputs": [
    {
     "name": "stdout",
     "output_type": "stream",
     "text": [
      "|---------|-------|\n",
      "| WORD    | COUNT |\n",
      "|---------|-------|\n",
      "| round   |    17 |\n",
      "| ability |     0 |\n",
      "| enemy   |     1 |\n",
      "|---------|-------|\n",
      "| TOTAL   |    18 |\n",
      "|---------|-------|\n"
     ]
    }
   ],
   "source": [
    "print(word_count_summary(\"Resources/pride-and-prejudice.txt\", [\"round\",\"ability\",\"enemy\"])) "
   ]
  },
  {
   "cell_type": "code",
   "execution_count": null,
   "id": "3218ed9c",
   "metadata": {},
   "outputs": [],
   "source": []
  }
 ],
 "metadata": {
  "kernelspec": {
   "display_name": "Python 3",
   "language": "python",
   "name": "python3"
  },
  "language_info": {
   "codemirror_mode": {
    "name": "ipython",
    "version": 3
   },
   "file_extension": ".py",
   "mimetype": "text/x-python",
   "name": "python",
   "nbconvert_exporter": "python",
   "pygments_lexer": "ipython3",
   "version": "3.8.8"
  }
 },
 "nbformat": 4,
 "nbformat_minor": 5
}
